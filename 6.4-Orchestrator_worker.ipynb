{
 "cells": [
  {
   "cell_type": "code",
   "execution_count": 2,
   "id": "995aed34",
   "metadata": {},
   "outputs": [
    {
     "data": {
      "text/plain": [
       "AIMessage(content=\"It's nice to meet you. Is there something I can help you with or would you like to chat?\", additional_kwargs={}, response_metadata={'token_usage': {'completion_tokens': 23, 'prompt_tokens': 36, 'total_tokens': 59, 'completion_time': 0.02399341, 'prompt_time': 0.001773281, 'queue_time': 0.051171989, 'total_time': 0.025766691}, 'model_name': 'llama-3.1-8b-instant', 'system_fingerprint': 'fp_8804b970d6', 'service_tier': 'on_demand', 'finish_reason': 'stop', 'logprobs': None}, id='run--c713d15a-e2b1-44f2-a6a5-8a29da251500-0', usage_metadata={'input_tokens': 36, 'output_tokens': 23, 'total_tokens': 59})"
      ]
     },
     "execution_count": 2,
     "metadata": {},
     "output_type": "execute_result"
    }
   ],
   "source": [
    "import os\n",
    "from dotenv import load_dotenv \n",
    "load_dotenv()\n",
    "\n",
    "from langchain_groq import ChatGroq\n",
    "os.environ['GROQ_API_KEY'] = os.getenv('GROQ_API_KEY')\n",
    "llm = ChatGroq(model='llama-3.1-8b-instant')\n",
    "result=llm.invoke(\"Hello\")\n",
    "result"
   ]
  },
  {
   "cell_type": "code",
   "execution_count": 3,
   "id": "ddc21bfe",
   "metadata": {},
   "outputs": [],
   "source": [
    "from typing_extensions import Literal\n",
    "from pydantic import BaseModel,Field\n",
    "from typing import Annotated,List\n",
    "import operator\n",
    "from langchain_core.messages import HumanMessage,SystemMessage\n",
    "from typing_extensions import TypedDict"
   ]
  },
  {
   "cell_type": "code",
   "execution_count": 15,
   "id": "cd98ea5f",
   "metadata": {},
   "outputs": [],
   "source": [
    "# Schema for structured output to use in planning\n",
    "class Section(BaseModel):\n",
    "    name:str=Field(description=\"Name for this section of the report\")\n",
    "    description:str=Field(description=\"Brief Overview of the main topics and concepts of the section\")\n",
    "\n",
    "class Sections(BaseModel):\n",
    "    sections:List[Section]=Field(\n",
    "        description=\"Sections of the report\"\n",
    "    )\n",
    "\n",
    "# Augment the LLM with schema for structured output\n",
    "planner=llm.with_structured_output(Sections)"
   ]
  },
  {
   "cell_type": "markdown",
   "id": "6fec5550",
   "metadata": {},
   "source": [
    "### Creating workers Dynamically in Langgraph"
   ]
  },
  {
   "cell_type": "code",
   "execution_count": 16,
   "id": "e3d0b5d4",
   "metadata": {},
   "outputs": [
    {
     "name": "stderr",
     "output_type": "stream",
     "text": [
      "C:\\Users\\Pradum Gupta\\AppData\\Local\\Temp\\ipykernel_2576\\1306454062.py:1: LangGraphDeprecatedSinceV10: Importing Send from langgraph.constants is deprecated. Please use 'from langgraph.types import Send' instead. Deprecated in LangGraph V1.0 to be removed in V2.0.\n",
      "  from langgraph.constants import Send\n"
     ]
    }
   ],
   "source": [
    "from langgraph.constants import Send\n",
    "\n",
    "\n",
    "# Graph state\n",
    "class State(TypedDict):\n",
    "    topic: str  # Report topic\n",
    "    sections: list[Section]  # List of report sections\n",
    "    completed_sections: Annotated[\n",
    "        list, operator.add\n",
    "    ]  # All workers write to this key in parallel\n",
    "    final_report: str  # Final report\n",
    "\n",
    "# Worker state\n",
    "class WorkerState(TypedDict):\n",
    "    section: Section\n",
    "    completed_sections: Annotated[list, operator.add]\n"
   ]
  },
  {
   "cell_type": "code",
   "execution_count": 17,
   "id": "8d6eff36",
   "metadata": {},
   "outputs": [],
   "source": [
    "# Nodes\n",
    "def orchestrator(state: State):\n",
    "    \"\"\"Orchestrator that generates a plan for the report\"\"\"\n",
    "\n",
    "    # Generate queries\n",
    "    report_sections = planner.invoke(\n",
    "        [\n",
    "            SystemMessage(content=\"Generate a plan for the report.\"),\n",
    "            HumanMessage(content=f\"Here is the report topic: {state['topic']}\"),\n",
    "        ]\n",
    "    )\n",
    "\n",
    "    print(\"Report Sections:\",report_sections)\n",
    "\n",
    "    return {\"sections\": report_sections.sections}\n",
    "\n",
    "def llm_call(state: WorkerState):\n",
    "    \"\"\"Worker writes a section of the report\"\"\"\n",
    "\n",
    "    # Generate section\n",
    "    section = llm.invoke(\n",
    "        [\n",
    "            SystemMessage(\n",
    "                content=\"Write a report section following the provided name and description. Include no preamble for each section. Use markdown formatting.\"\n",
    "            ),\n",
    "            HumanMessage(\n",
    "                content=f\"Here is the section name: {state['section'].name} and description: {state['section'].description}\"\n",
    "            ),\n",
    "        ]\n",
    "    )\n",
    "\n",
    "    # Write the updated section to completed sections\n",
    "    return {\"completed_sections\": [section.content]}\n",
    "\n",
    "# Conditional edge function to create llm_call workers that each write a section of the report\n",
    "def assign_workers(state: State):\n",
    "    \"\"\"Assign a worker to each section in the plan\"\"\"\n",
    "\n",
    "    # Kick off section writing in parallel via Send() API\n",
    "    return [Send(\"llm_call\", {\"section\": s}) for s in state[\"sections\"]]\n",
    "\n",
    "def synthesizer(state: State):\n",
    "    \"\"\"Synthesize full report from sections\"\"\"\n",
    "\n",
    "    # List of completed sections\n",
    "    completed_sections = state[\"completed_sections\"]\n",
    "\n",
    "    # Format completed section to str to use as context for final sections\n",
    "    completed_report_sections = \"\\n\\n---\\n\\n\".join(completed_sections)\n",
    "\n",
    "    return {\"final_report\": completed_report_sections}\n"
   ]
  },
  {
   "cell_type": "code",
   "execution_count": 18,
   "id": "d6e4bd5c",
   "metadata": {},
   "outputs": [
    {
     "data": {
      "image/png": "[encoded data removed]",
      "text/plain": [
       "<IPython.core.display.Image object>"
      ]
     },
     "metadata": {},
     "output_type": "display_data"
    }
   ],
   "source": [
    "#Build workflow\n",
    "from langgraph.graph import StateGraph, START, END\n",
    "from IPython.display import Image, display\n",
    "orchestrator_worker_builder = StateGraph(State)\n",
    "\n",
    "# Add node\n",
    "orchestrator_worker_builder.add_node(\"orchestrator\", orchestrator)\n",
    "orchestrator_worker_builder.add_node(\"llm_call\", llm_call)\n",
    "orchestrator_worker_builder.add_node(\"synthesizer\", synthesizer)\n",
    "\n",
    "#Add Edge\n",
    "orchestrator_worker_builder.add_edge(START,'orchestrator')\n",
    "orchestrator_worker_builder.add_conditional_edges(\"orchestrator\",assign_workers,[\"llm_call\"])\n",
    "orchestrator_worker_builder.add_edge(\"llm_call\", \"synthesizer\")\n",
    "orchestrator_worker_builder.add_edge(\"synthesizer\", END)\n",
    "\n",
    "# Compile the workflow\n",
    "orchestrator_worker = orchestrator_worker_builder.compile()\n",
    "\n",
    "# Show the workflow\n",
    "display(Image(orchestrator_worker.get_graph().draw_mermaid_png()))"
   ]
  },
  {
   "cell_type": "code",
   "execution_count": 19,
   "id": "32e9da3c",
   "metadata": {},
   "outputs": [
    {
     "name": "stdout",
     "output_type": "stream",
     "text": [
      "Report Sections: sections=[Section(name='Executive Summary', description='Brief Overview of the main topics and concepts of the report'), Section(name='Introduction', description='Definition and Background of Agentic AI RAGs'), Section(name='Key Features', description='Explanation of the main features and characteristics of Agentic AI RAGs'), Section(name='Benefits and Applications', description='Discussion of the benefits and potential applications of Agentic AI RAGs'), Section(name='Challenges and Limitations', description='Discussion of the challenges and limitations of Agentic AI RAGs'), Section(name='Conclusion', description='Summary of key findings and recommendations')]\n"
     ]
    },
    {
     "data": {
      "text/markdown": [
       "### Executive Summary\n",
       "\n",
       "#### Key Findings and Recommendations\n",
       "\n",
       "* This report provides an in-depth analysis of key topics and concepts related to [insert topic].\n",
       "* The main objectives of this report were to [insert objectives, e.g., identify key challenges, assess current trends, and provide recommendations for future development].\n",
       "* The following are the key findings and recommendations of this report:\n",
       "\n",
       "#### Main Topics Covered\n",
       "\n",
       "* [Topic 1]: Analysis of current trends and challenges in [industry/field].\n",
       "* [Topic 2]: Review of existing literature and research on [specific concept or theme].\n",
       "* [Topic 3]: Assessment of the impact of [factor/variable] on [outcome/result].\n",
       "\n",
       "#### Recommendations for Future Development\n",
       "\n",
       "* Implementation of [strategy/initiative] to address key challenges and improve outcomes.\n",
       "* Further research and analysis of [specific area or concept] to inform future decision-making.\n",
       "* Development of [policy/guideline] to promote best practices and standardization in [industry/field].\n",
       "\n",
       "---\n",
       "\n",
       "### Introduction and Description: Definition and Background of Agentic AI RAGs\n",
       "\n",
       "#### Definition\n",
       "\n",
       "Agentic AI RAGs (Reasoning, Acting, and Gathering systems) refer to a specific subset of artificial intelligence (AI) systems that possess the ability to act, reason, and gather information in a highly autonomous and adaptive manner. These systems are designed to learn from their environment and make decisions based on their understanding of the world around them.\n",
       "\n",
       "#### Background\n",
       "\n",
       "The concept of Agentic AI RAGs has its roots in various fields of research, including artificial intelligence, cognitive science, and robotics. The idea of creating autonomous AI systems that can act and reason in a human-like manner has been a long-standing goal in the field of AI research. The development of Agentic AI RAGs is driven by the need for more sophisticated and adaptable AI systems that can interact with humans and other agents in a more natural and intuitive way.\n",
       "\n",
       "#### Key Characteristics\n",
       "\n",
       "Agentic AI RAGs are characterized by several key features, including:\n",
       "\n",
       "* **Autonomy**: The ability to operate independently and make decisions without human intervention.\n",
       "* **Reasoning**: The ability to draw inferences and make logical conclusions based on available information.\n",
       "* **Acting**: The ability to take action in the world, including interacting with humans and other agents.\n",
       "* **Gathering**: The ability to collect and process information from the environment.\n",
       "* **Adaptability**: The ability to adjust to changing circumstances and learn from experience.\n",
       "\n",
       "#### Applications\n",
       "\n",
       "Agentic AI RAGs have a wide range of potential applications, including:\n",
       "\n",
       "* **Robotics**: Autonomous robots that can interact with humans and perform tasks in a variety of environments.\n",
       "* **Virtual Assistants**: AI-powered assistants that can perform tasks and provide information to humans.\n",
       "* **Autonomous Vehicles**: Self-driving cars that can navigate and interact with other agents on the road.\n",
       "\n",
       "#### Challenges\n",
       "\n",
       "The development of Agentic AI RAGs also presents several challenges, including:\n",
       "\n",
       "* **Safety and Control**: Ensuring that Agentic AI RAGs operate safely and can be controlled in the event of an error.\n",
       "* **Transparency and Explainability**: Providing clear and understandable explanations for the decisions made by Agentic AI RAGs.\n",
       "* **Ethics and Accountability**: Ensuring that Agentic AI RAGs operate in a way that is fair, transparent, and accountable.\n",
       "\n",
       "---\n",
       "\n",
       "### Key Features\n",
       "#### **Agent-Based Architecture**\n",
       "Agentic AI RAGs (Reusable Architectural Guidelines) are built upon an agent-based architecture, where artificial intelligence (AI) agents interact with their environment to achieve goals and adapt to changing circumstances. This architecture enables the development of autonomous systems that can learn, reason, and act in complex environments.\n",
       "\n",
       "#### **Goal-Oriented Programming**\n",
       "Agentic AI RAGs emphasize goal-oriented programming, where AI systems are designed to pursue specific objectives and adapt their behavior to achieve those goals. This approach allows for the creation of systems that can navigate complex environments, make decisions based on uncertain information, and learn from experience.\n",
       "\n",
       "#### **Autonomous Decision-Making**\n",
       "Agentic AI RAGs enable the development of autonomous systems that can make decisions without human intervention. These systems use a combination of machine learning algorithms, knowledge representation, and reasoning to make decisions based on their goals, environment, and experiences.\n",
       "\n",
       "#### **Self-Organization and Adaptation**\n",
       "Agentic AI RAGs allow AI systems to self-organize and adapt to changing environments. This is achieved through the use of mechanisms such as reinforcement learning, transfer learning, and social learning, which enable the system to learn from experience and adjust its behavior accordingly.\n",
       "\n",
       "#### **Multi-Agent Systems**\n",
       "Agentic AI RAGs provide a framework for the development of multi-agent systems, where multiple AI agents interact and cooperate to achieve common goals. This approach enables the creation of complex systems that can navigate complex environments, make decisions based on uncertain information, and learn from experience.\n",
       "\n",
       "#### **Scalability and Flexibility**\n",
       "Agentic AI RAGs are designed to be scalable and flexible, allowing for the development of systems that can be adapted to a wide range of applications and environments. This is achieved through the use of modular architectures, component-based design, and software frameworks that enable the easy integration of new components and services.\n",
       "\n",
       "---\n",
       "\n",
       "### Benefits and Applications\n",
       "#### Benefits\n",
       "\n",
       "* **Efficient Decision-Making**: Agentic AI RAGs can process vast amounts of data, analyze complex situations, and provide accurate recommendations, enabling more efficient decision-making.\n",
       "* **Improved Accuracy**: By leveraging machine learning algorithms and vast data sets, Agentic AI RAGs can reduce errors and provide more accurate predictions and forecasting.\n",
       "* **Enhanced Customer Experience**: Agentic AI RAGs can analyze customer behavior, preferences, and feedback to provide personalized recommendations, leading to improved customer satisfaction.\n",
       "* **Increased Productivity**: By automating routine tasks and providing actionable insights, Agentic AI RAGs can free up human resources for more strategic and creative work.\n",
       "\n",
       "#### Applications\n",
       "\n",
       "* **Healthcare**: Agentic AI RAGs can be used for medical diagnosis, disease prediction, and personalized treatment plans.\n",
       "* **Finance**: Agentic AI RAGs can be used for portfolio optimization, risk management, and predictive analytics for investment decisions.\n",
       "* **Marketing**: Agentic AI RAGs can be used for customer segmentation, campaign optimization, and personalized advertising.\n",
       "* **Supply Chain Management**: Agentic AI RAGs can be used for demand forecasting, inventory management, and logistics optimization.\n",
       "* **Education**: Agentic AI RAGs can be used for personalized learning, adaptive assessment, and intelligent tutoring systems.\n",
       "\n",
       "---\n",
       "\n",
       "### Challenges and Limitations\n",
       "#### 1. **Lack of Transparency and Explainability**\n",
       "Agentic AI RAGs often rely on complex models and algorithms, which can make it difficult to understand how they arrive at their decisions. This lack of transparency and explainability can limit their adoption in high-stakes applications and make it challenging to identify and mitigate potential biases.\n",
       "\n",
       "#### 2. **Data Quality and Availability**\n",
       "Agentic AI RAGs require high-quality and diverse data to learn and improve. However, data quality and availability can be a significant challenge, especially in domains where data is scarce or biased. This can limit the effectiveness and generalizability of Agentic AI RAGs.\n",
       "\n",
       "#### 3. **Scalability and Computational Resources**\n",
       "As Agentic AI RAGs become more complex and sophisticated, they can require significant computational resources to train and run. This can be a challenge for organizations with limited resources, and can also lead to scalability issues as the number of users and tasks grows.\n",
       "\n",
       "#### 4. **Regulatory and Ethical Concerns**\n",
       "Agentic AI RAGs raise a range of regulatory and ethical concerns, including issues related to accountability, bias, and transparency. Organizations must ensure that their Agentic AI RAGs comply with relevant laws and regulations, and that they are designed and implemented in a way that respects the rights and dignity of users.\n",
       "\n",
       "#### 5. **Human-AI Collaboration**\n",
       "Agentic AI RAGs are designed to collaborate with humans, but this can be a challenge in practice. Humans and AI systems have different strengths and weaknesses, and effective collaboration requires a deep understanding of both human and AI capabilities.\n",
       "\n",
       "#### 6. **Cybersecurity Risks**\n",
       "Agentic AI RAGs can be vulnerable to cyber attacks and data breaches, which can compromise their security and integrity. Organizations must invest in robust cybersecurity measures to protect their Agentic AI RAGs and maintain the trust of their users.\n",
       "\n",
       "---\n",
       "\n",
       "### Conclusion and Description: Summary of Key Findings and Recommendations\n",
       "\n",
       "#### Key Findings\n",
       "\n",
       "* The study revealed a significant correlation between [specific variables/ factors] and the outcome [specific outcome].\n",
       "* The results indicate that [specific outcome] is influenced by [specific factors/variables] in a [positive/negative] manner.\n",
       "* The data analysis showed that [specific trend/pattern] exists in the [specific data set/field], which has implications for [specific area of study/research].\n",
       "\n",
       "#### Recommendations\n",
       "\n",
       "* Based on the findings, it is recommended that [specific course of action] be taken to address [specific issue/concern].\n",
       "* To mitigate the negative effects of [specific factor/variable], it is suggested that [specific strategy/intervention] be implemented.\n",
       "* Future research should focus on [specific area of study/research] to further explore the relationships between [specific variables/factors] and [specific outcome].\n",
       "* Policymakers and stakeholders should consider the implications of [specific findings] when making decisions related to [specific area of study/research].\n",
       "\n",
       "#### Future Directions\n",
       "\n",
       "* The study's findings have significant implications for [specific area of study/research] and suggest the need for further investigation into [specific area of study/research].\n",
       "* Future research should aim to [specific goal/objective], which will help to [specific outcome].\n",
       "* The development of [specific tool/technique] is essential for [specific area of study/research] and will enable [specific outcome].\n",
       "* The study's findings highlight the need for [specific action/intervention] to address [specific issue/concern]."
      ],
      "text/plain": [
       "<IPython.core.display.Markdown object>"
      ]
     },
     "execution_count": 19,
     "metadata": {},
     "output_type": "execute_result"
    }
   ],
   "source": [
    "# Invoke\n",
    "state = orchestrator_worker.invoke({\"topic\": \"Create a report on Agentic AI RAGs\"})\n",
    "\n",
    "from IPython.display import Markdown\n",
    "Markdown(state[\"final_report\"])"
   ]
  },
  {
   "cell_type": "code",
   "execution_count": null,
   "id": "d2b9a4e0",
   "metadata": {},
   "outputs": [],
   "source": []
  }
 ],
 "metadata": {
  "kernelspec": {
   "display_name": "Python 3",
   "language": "python",
   "name": "python3"
  },
  "language_info": {
   "codemirror_mode": {
    "name": "ipython",
    "version": 3
   },
   "file_extension": ".py",
   "mimetype": "text/x-python",
   "name": "python",
   "nbconvert_exporter": "python",
   "pygments_lexer": "ipython3",
   "version": "3.12.0"
  }
 },
 "nbformat": 4,
 "nbformat_minor": 5
}
