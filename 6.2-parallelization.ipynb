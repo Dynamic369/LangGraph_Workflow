{
 "cells": [
  {
   "cell_type": "code",
   "execution_count": 1,
   "id": "63a460a1",
   "metadata": {},
   "outputs": [
    {
     "data": {
      "text/plain": [
       "AIMessage(content='Hello. How can I help you today?', additional_kwargs={}, response_metadata={'token_usage': {'completion_tokens': 10, 'prompt_tokens': 36, 'total_tokens': 46, 'completion_time': 0.014930195, 'prompt_time': 0.001678127, 'queue_time': 0.055025633, 'total_time': 0.016608322}, 'model_name': 'llama-3.1-8b-instant', 'system_fingerprint': 'fp_8a13dfab2b', 'service_tier': 'on_demand', 'finish_reason': 'stop', 'logprobs': None}, id='run--8f6c2597-609d-4533-876d-b5d117333b70-0', usage_metadata={'input_tokens': 36, 'output_tokens': 10, 'total_tokens': 46})"
      ]
     },
     "execution_count": 1,
     "metadata": {},
     "output_type": "execute_result"
    }
   ],
   "source": [
    "import os\n",
    "from dotenv import load_dotenv \n",
    "load_dotenv()\n",
    "\n",
    "from langchain_groq import ChatGroq\n",
    "os.environ['GROQ_API_KEY'] = os.getenv('GROQ_API_KEY')\n",
    "llm = ChatGroq(model='llama-3.1-8b-instant')\n",
    "result=llm.invoke(\"Hello\")\n",
    "result"
   ]
  },
  {
   "cell_type": "code",
   "execution_count": 2,
   "id": "a5662f4f",
   "metadata": {},
   "outputs": [],
   "source": [
    "from typing_extensions import TypedDict\n",
    "from langgraph.graph import StateGraph,START,END\n",
    "from IPython.display import Image,display\n",
    "class State(TypedDict):\n",
    "    topic:str\n",
    "    characters:str\n",
    "    settings:str\n",
    "    premises:str\n",
    "    story_intro:str"
   ]
  },
  {
   "cell_type": "code",
   "execution_count": 8,
   "id": "d70bb300",
   "metadata": {},
   "outputs": [],
   "source": [
    "#Nodes\n",
    "def generate_character(state:State):\n",
    "    \"\"\"Generate character descriptions\"\"\"\n",
    "    msg=llm.invoke(f\"Create two character names and brief traits for a story about {state['topic']}\")\n",
    "    return {\"characters\":msg.content}\n",
    "\n",
    "def generate_settings(state:State):\n",
    "    \"\"\"Generate a story setting\"\"\"\n",
    "    msg = llm.invoke(f\"Describe a vivid setting for a story about {state['topic']}\")\n",
    "    return {'settings':msg.content}\n",
    "\n",
    "def generate_premise(state:State):\n",
    "    \"\"\"Generate a story premise\"\"\"\n",
    "    msg = llm.invoke(f\"Write a one sentence premise for a story about {state['topic']}\")\n",
    "    return {'premises':msg.content}\n",
    "\n",
    "def combine_element(state:State):\n",
    "    \"\"\"Combine characters, settings, and premise into an intro\"\"\"\n",
    "    msg = llm.invoke(\n",
    "        f\"Write a short story introduction using these elements:\\n\"\n",
    "        f\"Characters: {state['characters']}\\n\"\n",
    "        f\"Settings : {state['settings']}\\n\"\n",
    "        f'Premise: {state['premises']}'\n",
    "\n",
    "    )\n",
    "    return {'story_intro':msg.content}\n"
   ]
  },
  {
   "cell_type": "code",
   "execution_count": 9,
   "id": "968eda4c",
   "metadata": {},
   "outputs": [
    {
     "data": {
      "text/plain": [
       "<langgraph.graph.state.StateGraph at 0x244c3ba3920>"
      ]
     },
     "execution_count": 9,
     "metadata": {},
     "output_type": "execute_result"
    }
   ],
   "source": [
    "graph = StateGraph(State)\n",
    "\n",
    "graph.add_node(\"character\",generate_character)\n",
    "graph.add_node(\"setting\",generate_settings)\n",
    "graph.add_node(\"premise\",generate_premise)\n",
    "graph.add_node(\"combine\",combine_element)\n",
    "\n"
   ]
  },
  {
   "cell_type": "code",
   "execution_count": 10,
   "id": "66f11aaf",
   "metadata": {},
   "outputs": [
    {
     "data": {
      "image/png": "[encoded data removed]",
      "text/plain": [
       "<IPython.core.display.Image object>"
      ]
     },
     "metadata": {},
     "output_type": "display_data"
    }
   ],
   "source": [
    "graph.add_edge(START,'character')\n",
    "graph.add_edge(START,'setting')\n",
    "graph.add_edge(START,'premise')\n",
    "graph.add_edge('character','combine')\n",
    "graph.add_edge('setting','combine')\n",
    "graph.add_edge('premise','combine')\n",
    "graph.add_edge('combine',END)\n",
    "\n",
    "#Show the graph\n",
    "compiled_graph=graph.compile()\n",
    "display(Image(compiled_graph.get_graph().draw_mermaid_png()))\n",
    "\n"
   ]
  },
  {
   "cell_type": "code",
   "execution_count": 11,
   "id": "e3bd2258",
   "metadata": {},
   "outputs": [
    {
     "name": "stdout",
     "output_type": "stream",
     "text": [
      "As the fog swirled around the ancient clock tower, casting eerie shadows on the cobblestone pavement, Ethan Blackwood stumbled through the dimly lit alleyway, his eyes fixed on the dilapidated antique shop across from him. The sign creaked in the gentle breeze, beckoning him with the promise of secrets and forgotten eras. It was a place he had always avoided, yet drawn to, like a moth to flame.\n",
      "\n",
      "Behind him, Ava Morales caught up to him, her long brown hair fluttering in the misty air. \"Ethan, wait,\" she called out, her voice husky from the exertion of keeping pace with him. \"What's going on?\"\n",
      "\n",
      "Ethan turned to her, his eyes narrowing as he studied her concerned expression. \"I don't know,\" he admitted, his dry tone at odds with the turmoil brewing inside him. \"But I think we're running out of time.\"\n",
      "\n",
      "Ava's eyes widened as she followed his gaze to the clock tower. The face glowed with an otherworldly light, and the ticking of the gears seemed to grow louder, more insistent. \"What's happening, Ethan?\" she repeated, her voice barely above a whisper.\n",
      "\n",
      "Ethan's eyes locked onto the clock tower, his mind racing with the implications of what was unfolding before him. \"I think I've created a rift in the timestream,\" he said, his voice barely audible over the pounding of his heart. \"And I think I need your help to close it.\"\n",
      "\n",
      "Ava's eyes flashed with understanding, and she grasped Ethan's arm, her grip firm. \"Let's go inside,\" she said, her voice steady. \"We need to find out what's going on, and how to fix it.\"\n",
      "\n",
      "As they stepped into the antique shop, the scent of old leather and sandalwood enveloped them, drawing them deeper into the heart of the mystery. The shop's proprietor, an elderly man with a twinkle in his eye, looked up from behind the counter, his expression expectant.\n",
      "\n",
      "\"Welcome, time travelers,\" he said, his voice low and gravelly. \"I've been waiting for you. You see, I have a proposition for you. One that will require you to travel through time, to confront the consequences of your actions on the timestream. And to prevent a catastrophic future from unfolding.\"\n",
      "\n",
      "Ethan's eyes met Ava's, and he knew that their journey through time had only just begun. Little did they know, the fate of the timestream hung in the balance, and their actions would determine the course of history itself.\n"
     ]
    }
   ],
   "source": [
    "state = {'topic':'time travel'}\n",
    "result = compiled_graph.invoke(state)\n",
    "print(result['story_intro'])"
   ]
  },
  {
   "cell_type": "code",
   "execution_count": null,
   "id": "d90e142e",
   "metadata": {},
   "outputs": [],
   "source": []
  }
 ],
 "metadata": {
  "kernelspec": {
   "display_name": "Python 3",
   "language": "python",
   "name": "python3"
  },
  "language_info": {
   "codemirror_mode": {
    "name": "ipython",
    "version": 3
   },
   "file_extension": ".py",
   "mimetype": "text/x-python",
   "name": "python",
   "nbconvert_exporter": "python",
   "pygments_lexer": "ipython3",
   "version": "3.12.0"
  }
 },
 "nbformat": 4,
 "nbformat_minor": 5
}
