{
 "cells": [
  {
   "cell_type": "code",
   "execution_count": 1,
   "id": "973d2258",
   "metadata": {},
   "outputs": [
    {
     "data": {
      "text/plain": [
       "AIMessage(content='How can I assist you today?', additional_kwargs={}, response_metadata={'token_usage': {'completion_tokens': 8, 'prompt_tokens': 36, 'total_tokens': 44, 'completion_time': 0.009924147, 'prompt_time': 0.002002485, 'queue_time': 0.055447885, 'total_time': 0.011926632}, 'model_name': 'llama-3.1-8b-instant', 'system_fingerprint': 'fp_3ddc9808b3', 'service_tier': 'on_demand', 'finish_reason': 'stop', 'logprobs': None}, id='run--0ee93d41-2574-4d4b-b394-c2e5da6f2a3b-0', usage_metadata={'input_tokens': 36, 'output_tokens': 8, 'total_tokens': 44})"
      ]
     },
     "execution_count": 1,
     "metadata": {},
     "output_type": "execute_result"
    }
   ],
   "source": [
    "import os\n",
    "from dotenv import load_dotenv \n",
    "load_dotenv()\n",
    "\n",
    "from langchain_groq import ChatGroq\n",
    "os.environ['GROQ_API_KEY'] = os.getenv('GROQ_API_KEY')\n",
    "llm = ChatGroq(model='llama-3.1-8b-instant')\n",
    "result=llm.invoke(\"Hello\")\n",
    "result"
   ]
  },
  {
   "cell_type": "code",
   "execution_count": 2,
   "id": "863020fd",
   "metadata": {},
   "outputs": [],
   "source": [
    "from typing_extensions import Literal\n",
    "from pydantic import BaseModel,Field\n",
    "from typing import Annotated,List\n",
    "import operator\n",
    "from langchain_core.messages import HumanMessage,SystemMessage\n",
    "from typing_extensions import TypedDict\n",
    "# Graph State\n",
    "class State(TypedDict):\n",
    "    joke:str\n",
    "    topic:str\n",
    "    feedback:str\n",
    "    funny_or_not:str"
   ]
  },
  {
   "cell_type": "code",
   "execution_count": 5,
   "id": "1e54e34e",
   "metadata": {},
   "outputs": [],
   "source": [
    "# Schema for sturctured output to use in evaluation\n",
    "class Feedback(BaseModel):\n",
    "    grade:Literal['funny','not funny'] = Field(description=\"Decide if the joke is funny or not.\",)\n",
    "    feedback:str = Field(description=\"If the joke is not funny, provide feedback onhow to improve it.\",)\n",
    "\n",
    "evaluator=llm.with_structured_output(Feedback)"
   ]
  },
  {
   "cell_type": "code",
   "execution_count": 6,
   "id": "fa1a6068",
   "metadata": {},
   "outputs": [],
   "source": [
    "# Node\n",
    "def llm_call_generator(state:State):\n",
    "    \"\"\" LLM generates the joke\"\"\"\n",
    "    if state.get('feedback'):\n",
    "        msg = llm.invoke(f\"Write a joke about {state['topic']}, but take into account the feedback: {state['feedback']}\")\n",
    "\n",
    "    else:\n",
    "        msg=llm.invoke(f\"Write a joke on topic {state['topic']}\")\n",
    "    return {\"joke\":msg.content}\n",
    "\n",
    "def llm_call_evaluator(state:State):\n",
    "    \"\"\"LLM evaluates the joke\"\"\"\n",
    "\n",
    "    result = evaluator.invoke(f\"Evaluate the joke {state['joke']}\")\n",
    "    return {\"funny_or_not\":result.grade, \"feedback\":result.feedback}\n",
    "\n",
    "#Conditional edge function to route back to joke generaator or end based upon the feedback form ava;uator\n",
    "def route_joke(state:State):\n",
    "    \"\"\"Route back to joke generator or end based upon feedback from the evaluator\"\"\"\n",
    "\n",
    "    if state['funny_or_not'] == \"funny\":\n",
    "        return \"Accepted\"\n",
    "    elif state['funny_or_not'] == \"not funny\":\n",
    "        return \"Rejected + Feedback\"\n",
    "\n",
    "\n"
   ]
  },
  {
   "cell_type": "code",
   "execution_count": 7,
   "id": "b9b95f63",
   "metadata": {},
   "outputs": [],
   "source": [
    "from langgraph.graph import StateGraph, START, END\n",
    "from IPython.display import Image, display"
   ]
  },
  {
   "cell_type": "code",
   "execution_count": 8,
   "id": "707c651f",
   "metadata": {},
   "outputs": [],
   "source": [
    "# Build the workflow\n",
    "optimizer_builder = StateGraph(state_schema=State)\n",
    "\n",
    "#Add the nodde\n",
    "optimizer_builder.add_node('llm_call_generator',llm_call_generator)\n",
    "optimizer_builder.add_node('llm_call_evaluator',llm_call_evaluator)\n",
    "\n",
    "#Add the edges\n",
    "optimizer_builder.add_edge(START,'llm_call_generator')\n",
    "optimizer_builder.add_edge('llm_call_generator','llm_call_evaluator')\n",
    "optimizer_builder.add_conditional_edges(\n",
    "    'llm_call_evaluator',route_joke, {\"Accepted\":END, \"Rejected + Feedback\":\"llm_call_generator\"},\n",
    ")\n",
    "\n",
    "#Compile the workflow\n",
    "optimizer_workflow = optimizer_builder.compile()"
   ]
  },
  {
   "cell_type": "code",
   "execution_count": 9,
   "id": "038d465e",
   "metadata": {},
   "outputs": [
    {
     "data": {
      "image/png": "[encoded data removed]",
      "text/plain": [
       "<IPython.core.display.Image object>"
      ]
     },
     "metadata": {},
     "output_type": "display_data"
    }
   ],
   "source": [
    "display(Image(optimizer_workflow.get_graph().draw_mermaid_png()))"
   ]
  },
  {
   "cell_type": "code",
   "execution_count": 16,
   "id": "09afc6a1",
   "metadata": {},
   "outputs": [
    {
     "name": "stdout",
     "output_type": "stream",
     "text": [
      "Why did the Generative AI go to therapy?\n",
      "\n",
      "Because it had a lot of \"generated\" anxiety and was struggling to \"produce\" a positive self-image.\n"
     ]
    }
   ],
   "source": [
    "result = optimizer_workflow.invoke({'topic':\"Generative AI\"})\n",
    "print(result['joke'])"
   ]
  },
  {
   "cell_type": "code",
   "execution_count": null,
   "id": "c0b61a2e",
   "metadata": {},
   "outputs": [],
   "source": []
  }
 ],
 "metadata": {
  "kernelspec": {
   "display_name": "Python 3",
   "language": "python",
   "name": "python3"
  },
  "language_info": {
   "codemirror_mode": {
    "name": "ipython",
    "version": 3
   },
   "file_extension": ".py",
   "mimetype": "text/x-python",
   "name": "python",
   "nbconvert_exporter": "python",
   "pygments_lexer": "ipython3",
   "version": "3.12.0"
  }
 },
 "nbformat": 4,
 "nbformat_minor": 5
}
